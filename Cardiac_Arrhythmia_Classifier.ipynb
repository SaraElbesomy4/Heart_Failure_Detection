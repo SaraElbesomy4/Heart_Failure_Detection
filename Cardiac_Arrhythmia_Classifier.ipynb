{
  "nbformat": 4,
  "nbformat_minor": 0,
  "metadata": {
    "colab": {
      "name": "Cardiac Arrhythmia Classifier.ipynb",
      "provenance": [],
      "collapsed_sections": [],
      "include_colab_link": true
    },
    "kernelspec": {
      "name": "python3",
      "display_name": "Python 3"
    },
    "accelerator": "GPU"
  },
  "cells": [
    {
      "cell_type": "markdown",
      "metadata": {
        "id": "view-in-github",
        "colab_type": "text"
      },
      "source": [
        "<a href=\"https://colab.research.google.com/github/SaraElbesomy4/Heart_Failure_Detection/blob/master/Cardiac_Arrhythmia_Classifier.ipynb\" target=\"_parent\"><img src=\"https://colab.research.google.com/assets/colab-badge.svg\" alt=\"Open In Colab\"/></a>"
      ]
    },
    {
      "cell_type": "code",
      "metadata": {
        "colab_type": "code",
        "id": "DnSrzQRw7SaY",
        "colab": {
          "base_uri": "https://localhost:8080/",
          "height": 125
        },
        "outputId": "aa120d3f-9cbb-4154-89a4-ba27b1193a99"
      },
      "source": [
        "from google.colab import drive\n",
        "drive.mount('/content/drive')"
      ],
      "execution_count": null,
      "outputs": [
        {
          "output_type": "stream",
          "text": [
            "Go to this URL in a browser: https://accounts.google.com/o/oauth2/auth?client_id=947318989803-6bn6qk8qdgf4n4g3pfee6491hc0brc4i.apps.googleusercontent.com&redirect_uri=urn%3aietf%3awg%3aoauth%3a2.0%3aoob&response_type=code&scope=email%20https%3a%2f%2fwww.googleapis.com%2fauth%2fdocs.test%20https%3a%2f%2fwww.googleapis.com%2fauth%2fdrive%20https%3a%2f%2fwww.googleapis.com%2fauth%2fdrive.photos.readonly%20https%3a%2f%2fwww.googleapis.com%2fauth%2fpeopleapi.readonly\n",
            "\n",
            "Enter your authorization code:\n",
            "··········\n",
            "Mounted at /content/drive\n"
          ],
          "name": "stdout"
        }
      ]
    },
    {
      "cell_type": "code",
      "metadata": {
        "colab_type": "code",
        "id": "hY8UpX9c7SFM",
        "colab": {
          "base_uri": "https://localhost:8080/",
          "height": 641
        },
        "outputId": "9b2f80a4-5f25-43b7-d1fe-3288ff7d15a0"
      },
      "source": [
        "!pip install wfdb\n",
        "!pip install pywavelets"
      ],
      "execution_count": null,
      "outputs": [
        {
          "output_type": "stream",
          "text": [
            "Collecting wfdb\n",
            "\u001b[?25l  Downloading https://files.pythonhosted.org/packages/b2/96/c2200539fdf4f087e14d30ed62a66544b6f441196bcb8ecc7a29ec6503b9/wfdb-2.2.1.tar.gz (94kB)\n",
            "\u001b[K     |████████████████████████████████| 102kB 3.9MB/s \n",
            "\u001b[?25hCollecting nose>=1.3.7\n",
            "\u001b[?25l  Downloading https://files.pythonhosted.org/packages/15/d8/dd071918c040f50fa1cf80da16423af51ff8ce4a0f2399b7bf8de45ac3d9/nose-1.3.7-py3-none-any.whl (154kB)\n",
            "\u001b[K     |████████████████████████████████| 163kB 10.8MB/s \n",
            "\u001b[?25hRequirement already satisfied: numpy>=1.11.0 in /usr/local/lib/python3.6/dist-packages (from wfdb) (1.17.4)\n",
            "Requirement already satisfied: matplotlib>=1.5.1 in /usr/local/lib/python3.6/dist-packages (from wfdb) (3.1.2)\n",
            "Requirement already satisfied: requests>=2.10.0 in /usr/local/lib/python3.6/dist-packages (from wfdb) (2.21.0)\n",
            "Requirement already satisfied: pandas>=0.19.1 in /usr/local/lib/python3.6/dist-packages (from wfdb) (0.25.3)\n",
            "Requirement already satisfied: scipy>=0.19.0 in /usr/local/lib/python3.6/dist-packages (from wfdb) (1.3.3)\n",
            "Requirement already satisfied: sklearn>=0.0 in /usr/local/lib/python3.6/dist-packages (from wfdb) (0.0)\n",
            "Requirement already satisfied: pyparsing!=2.0.4,!=2.1.2,!=2.1.6,>=2.0.1 in /usr/local/lib/python3.6/dist-packages (from matplotlib>=1.5.1->wfdb) (2.4.5)\n",
            "Requirement already satisfied: kiwisolver>=1.0.1 in /usr/local/lib/python3.6/dist-packages (from matplotlib>=1.5.1->wfdb) (1.1.0)\n",
            "Requirement already satisfied: cycler>=0.10 in /usr/local/lib/python3.6/dist-packages (from matplotlib>=1.5.1->wfdb) (0.10.0)\n",
            "Requirement already satisfied: python-dateutil>=2.1 in /usr/local/lib/python3.6/dist-packages (from matplotlib>=1.5.1->wfdb) (2.6.1)\n",
            "Requirement already satisfied: certifi>=2017.4.17 in /usr/local/lib/python3.6/dist-packages (from requests>=2.10.0->wfdb) (2019.11.28)\n",
            "Requirement already satisfied: chardet<3.1.0,>=3.0.2 in /usr/local/lib/python3.6/dist-packages (from requests>=2.10.0->wfdb) (3.0.4)\n",
            "Requirement already satisfied: urllib3<1.25,>=1.21.1 in /usr/local/lib/python3.6/dist-packages (from requests>=2.10.0->wfdb) (1.24.3)\n",
            "Requirement already satisfied: idna<2.9,>=2.5 in /usr/local/lib/python3.6/dist-packages (from requests>=2.10.0->wfdb) (2.8)\n",
            "Requirement already satisfied: pytz>=2017.2 in /usr/local/lib/python3.6/dist-packages (from pandas>=0.19.1->wfdb) (2018.9)\n",
            "Requirement already satisfied: scikit-learn in /usr/local/lib/python3.6/dist-packages (from sklearn>=0.0->wfdb) (0.21.3)\n",
            "Requirement already satisfied: setuptools in /usr/local/lib/python3.6/dist-packages (from kiwisolver>=1.0.1->matplotlib>=1.5.1->wfdb) (42.0.2)\n",
            "Requirement already satisfied: six in /usr/local/lib/python3.6/dist-packages (from cycler>=0.10->matplotlib>=1.5.1->wfdb) (1.12.0)\n",
            "Requirement already satisfied: joblib>=0.11 in /usr/local/lib/python3.6/dist-packages (from scikit-learn->sklearn>=0.0->wfdb) (0.14.1)\n",
            "Building wheels for collected packages: wfdb\n",
            "  Building wheel for wfdb (setup.py) ... \u001b[?25l\u001b[?25hdone\n",
            "  Created wheel for wfdb: filename=wfdb-2.2.1-cp36-none-any.whl size=100368 sha256=9a0471e126f656c8bba3a7f6df4b8e1f4075013190aee2796d30a5e3681fbc05\n",
            "  Stored in directory: /root/.cache/pip/wheels/bb/a9/00/0078d26b0c15b31be0001af8eb659496709c361c69641303f1\n",
            "Successfully built wfdb\n",
            "Installing collected packages: nose, wfdb\n",
            "Successfully installed nose-1.3.7 wfdb-2.2.1\n",
            "Requirement already satisfied: pywavelets in /usr/local/lib/python3.6/dist-packages (1.1.1)\n",
            "Requirement already satisfied: numpy>=1.13.3 in /usr/local/lib/python3.6/dist-packages (from pywavelets) (1.17.4)\n"
          ],
          "name": "stdout"
        }
      ]
    },
    {
      "cell_type": "code",
      "metadata": {
        "colab_type": "code",
        "id": "11POlyX-7R7o",
        "colab": {}
      },
      "source": [
        ""
      ],
      "execution_count": null,
      "outputs": []
    },
    {
      "cell_type": "code",
      "metadata": {
        "id": "b7v9TK4n4IcG",
        "colab_type": "code",
        "colab": {}
      },
      "source": [
        "import numpy as np\n",
        "import sys, os\n",
        "import wfdb\n",
        "import pywt\n",
        "import pickle as pk\n",
        "from collections import Counter"
      ],
      "execution_count": null,
      "outputs": []
    },
    {
      "cell_type": "code",
      "metadata": {
        "id": "SDakp6K24P9n",
        "colab_type": "code",
        "colab": {}
      },
      "source": [
        "data_names = ['100', '101', '102', '103', '104', '105', '106', '107', \n",
        "              '108', '109', '111', '112', '113', '114', '115', '116', \n",
        "              '117', '118', '119', '121', '122', '123', '124', '200', \n",
        "              '201', '202', '203', '205', '207', '208', '209', '210', \n",
        "              '212', '213', '214', '215', '217', '219', '220', '221', \n",
        "              '222', '223', '228', '230', '231', '232', '233', '234']"
      ],
      "execution_count": null,
      "outputs": []
    },
    {
      "cell_type": "code",
      "metadata": {
        "id": "5E6aS5hk4Rdh",
        "colab_type": "code",
        "colab": {}
      },
      "source": [
        "wid = 100\n",
        "\n",
        "labels =  ['N', 'L', 'R', 'A', 'V']\n",
        "X = []\n",
        "Y = []\n",
        "for d in data_names:\n",
        "  r=wfdb.rdrecord('/content/drive/My Drive/ECG_project/files/mitdb/1.0.0/'+d)\n",
        "  ann=wfdb.rdann('/content/drive/My Drive/ECG_project/files/mitdb/1.0.0/'+d, 'atr', return_label_elements=['label_store', 'symbol'])\n",
        "  sig = np.array(r.p_signal[:,0])\n",
        "  sig_len = len(sig)\n",
        "  sym = ann.symbol\n",
        "  pos = ann.sample\n",
        "  beat_len = len(sym)\n",
        "  for i in range(1,beat_len-1):\n",
        "    if sym[i] in labels: \n",
        "      if (pos[i]-pos[i-1])>200 and (pos[i+1]-pos[i])>200:\n",
        "        a = sig[pos[i]-150:pos[i]+150]\n",
        "        a, cD3, cD2, cD1 = pywt.wavedec(a, 'db6', level=3)\n",
        "        X.append(a)\n",
        "        Y.append(labels.index(sym[i]))"
      ],
      "execution_count": null,
      "outputs": []
    },
    {
      "cell_type": "code",
      "metadata": {
        "id": "-ax6qvY8sY9G",
        "colab_type": "code",
        "colab": {}
      },
      "source": [
        ""
      ],
      "execution_count": null,
      "outputs": []
    },
    {
      "cell_type": "code",
      "metadata": {
        "id": "r-i5VE2e4WKD",
        "colab_type": "code",
        "colab": {
          "base_uri": "https://localhost:8080/",
          "height": 70
        },
        "outputId": "7e8f3c96-30bb-4cce-b96c-4c2898248aa3"
      },
      "source": [
        "X = np.array(X)\n",
        "Y = np.array(Y)\n",
        "print(X.shape)\n",
        "print(Y.shape)\n",
        "print(Counter(Y))"
      ],
      "execution_count": null,
      "outputs": [
        {
          "output_type": "stream",
          "text": [
            "(78546, 47)\n",
            "(78546,)\n",
            "Counter({0: 60621, 1: 7772, 2: 7141, 3: 1585, 4: 1427})\n"
          ],
          "name": "stdout"
        }
      ]
    },
    {
      "cell_type": "code",
      "metadata": {
        "id": "qOkTOhut6Db6",
        "colab_type": "code",
        "colab": {}
      },
      "source": [
        "data_len = len(X)\n",
        "np.random.seed(42)\n",
        "idx = list(range(data_len))\n",
        "np.random.shuffle(idx)"
      ],
      "execution_count": null,
      "outputs": []
    },
    {
      "cell_type": "code",
      "metadata": {
        "id": "DoCVRMiV6Qn4",
        "colab_type": "code",
        "colab": {
          "base_uri": "https://localhost:8080/",
          "height": 87
        },
        "outputId": "d0722d6b-9161-4fe6-dfe1-a330de64cf36"
      },
      "source": [
        "train_len = int(data_len*0.8) #\n",
        "valid_len = int(data_len*0.2)\n",
        "\n",
        "X_train = X[idx][:train_len]\n",
        "X_valid = X[idx][train_len:train_len+valid_len]\n",
        "Y_train = Y[idx][:train_len]\n",
        "Y_valid = Y[idx][train_len:train_len+valid_len]\n",
        "\n",
        "\n",
        "print(X_train.shape)\n",
        "print(X_valid.shape)\n",
        "print(Counter(Y_train))\n",
        "print(Counter(Y_valid))\n",
        "\n",
        "fn = \"data_\"+\"NLRAV\"+\".pk\"\n",
        "with open(fn, \"wb\") as fw:\n",
        "    pk.dump(X_train, fw, protocol=pk.HIGHEST_PROTOCOL)\n",
        "    pk.dump(Y_train, fw, protocol=pk.HIGHEST_PROTOCOL)\n",
        "    pk.dump(X_valid, fw, protocol=pk.HIGHEST_PROTOCOL)\n",
        "    pk.dump(Y_valid, fw, protocol=pk.HIGHEST_PROTOCOL)"
      ],
      "execution_count": null,
      "outputs": [
        {
          "output_type": "stream",
          "text": [
            "(62836, 47)\n",
            "(15709, 47)\n",
            "Counter({0: 48390, 1: 6280, 2: 5744, 3: 1280, 4: 1142})\n",
            "Counter({0: 12231, 1: 1491, 2: 1397, 3: 305, 4: 285})\n"
          ],
          "name": "stdout"
        }
      ]
    },
    {
      "cell_type": "code",
      "metadata": {
        "id": "RioHHscIwHu0",
        "colab_type": "code",
        "colab": {
          "base_uri": "https://localhost:8080/",
          "height": 133
        },
        "outputId": "62a30f1c-7339-459c-e686-b5de88862d7e"
      },
      "source": [
        "import numpy as np\n",
        "import pickle as pk\n",
        "import os, sys\n",
        "from collections import Counter\n",
        "from sklearn.metrics import confusion_matrix\n",
        "from sklearn.metrics import roc_auc_score \n",
        "import keras\n",
        "import tensorflow as tf\n",
        "import keras.backend as K\n",
        "from keras.models import Sequential\n",
        "from keras.layers import *\n",
        "from keras.optimizers import Adam\n",
        "\n",
        "def get_session(gpu_fraction=0.1):\n",
        "    gpu_options = tf.GPUOptions(per_process_gpu_memory_fraction=gpu_fraction)\n",
        "    return tf.Session(config=tf.ConfigProto(gpu_options=gpu_options))\n",
        "  \n",
        "K.set_session(get_session())\n",
        "\n",
        "\n",
        "\n",
        "mode = \"NLRAV\" # NLRAV / NSVFQ\n",
        "model_type = \"CNN_GRU\"\n",
        "save = \"result_NLRAV_0_1\" # result_NLRAV_0\n",
        "\n",
        "mode = \"NLRAV\" # NLRAV / NSVFQ\n",
        "fn = \"data_\"+mode+\".pk\"\n",
        "with open(fn, \"rb\") as fp:\n",
        "    X_train = pk.load(fp)\n",
        "    Y_train = pk.load(fp)\n",
        "    X_valid = pk.load(fp)\n",
        "    Y_valid = pk.load(fp)\n",
        "    \n",
        "y_train = Y_train\n",
        "if model_type != 'Dense':\n",
        "    X_train = np.expand_dims(X_train, axis=-1)\n",
        "    X_valid = np.expand_dims(X_valid, axis=-1)\n",
        "\n",
        "print(X_train.shape)\n",
        "print(X_valid.shape)\n",
        "f_size = X_train.shape[1]\n",
        "class_num = 5\n",
        "\n",
        "#============================================#\n",
        "\n",
        "lr = 0.005\n",
        "batch_size=128\n",
        "\n",
        "Y_train = keras.utils.to_categorical(Y_train, num_classes=class_num)\n",
        "\n",
        "def make_model(model_type = 'LSTM'):\n",
        "    model = Sequential()\n",
        "\n",
        "    if model_type == 'LSTM':\n",
        "        model.add(LSTM(64, return_sequences=True, dropout=0.1, input_shape=(f_size, 1)))\n",
        "        model.add(LSTM(32, return_sequences=True, dropout=0.1))\n",
        "        model.add(Flatten())\n",
        "        model.add(Dense(128, activation='relu'))\n",
        "        model.add(Dropout(0.2))\n",
        "\n",
        "    if model_type == '1DConv':\n",
        "        model.add(Conv1D(18, 4, activation='relu', input_shape=(f_size,1)))\n",
        "        model.add(MaxPooling1D(2))\n",
        "        model.add(Conv1D(9, 2, activation='relu'))\n",
        "        model.add(MaxPooling1D(2))\n",
        "        model.add(Flatten())\n",
        "        model.add(Dense(15, activation='relu'))\n",
        "\n",
        "    elif model_type == 'GRU':\n",
        "        #model.add(Input(256,256))\n",
        "        model.add(GRU(32, dropout=0.5,recurrent_dropout=0.5,return_sequences=True))\n",
        "        model.add(GRU(32, dropout=0.5,recurrent_dropout=0.5, return_sequences=True))\n",
        "        model.add(Flatten())\n",
        "        model.add(Dense(32))\n",
        "        model.add(Dropout(0.5))\n",
        "        model.add(Dense(10))\n",
        "        #model.add(Activation('sigmoid', name='strong_out'))\n",
        "\n",
        "    elif model_type == 'CNN_GRU':\n",
        "        model.add(Conv1D(64, 3, activation='relu'))\n",
        "        model.add(SpatialDropout1D(0.2))\n",
        "        model.add(MaxPooling1D(4))\n",
        "        model.add(CuDNNGRU(64))\n",
        "        model.add(Dropout(0.1))\n",
        "\n",
        "    model.add(Dense(class_num, activation='softmax'))\n",
        "    model.compile(loss='categorical_crossentropy', optimizer=Adam(lr=lr))\n",
        "    return model\n"
      ],
      "execution_count": null,
      "outputs": [
        {
          "output_type": "stream",
          "text": [
            "Using TensorFlow backend.\n"
          ],
          "name": "stderr"
        },
        {
          "output_type": "display_data",
          "data": {
            "text/html": [
              "<p style=\"color: red;\">\n",
              "The default version of TensorFlow in Colab will soon switch to TensorFlow 2.x.<br>\n",
              "We recommend you <a href=\"https://www.tensorflow.org/guide/migrate\" target=\"_blank\">upgrade</a> now \n",
              "or ensure your notebook will continue to use TensorFlow 1.x via the <code>%tensorflow_version 1.x</code> magic:\n",
              "<a href=\"https://colab.research.google.com/notebooks/tensorflow_version.ipynb\" target=\"_blank\">more info</a>.</p>\n"
            ],
            "text/plain": [
              "<IPython.core.display.HTML object>"
            ]
          },
          "metadata": {
            "tags": []
          }
        },
        {
          "output_type": "stream",
          "text": [
            "(62836, 47, 1)\n",
            "(15709, 47, 1)\n"
          ],
          "name": "stdout"
        }
      ]
    },
    {
      "cell_type": "code",
      "metadata": {
        "id": "6EmJGHG47CZu",
        "colab_type": "code",
        "colab": {}
      },
      "source": [
        "def test_model(model_type):\n",
        "  \n",
        "  model = make_model(model_type)\n",
        "  best_SE = 0\n",
        "  best_ACC = 0\n",
        "  best_model = make_model(model_type)\n",
        "  patience = 30\n",
        "  pcnt = 0\n",
        "\n",
        "\n",
        "  mode = \"NLRAV\" # NLRAV / NSVFQ\n",
        "  fn = \"data_\"+mode+\".pk\"\n",
        "  with open(fn, \"rb\") as fp:\n",
        "      X_train = pk.load(fp)\n",
        "      Y_train = pk.load(fp)\n",
        "      X_valid = pk.load(fp)\n",
        "      Y_valid = pk.load(fp)\n",
        "\n",
        "  f_size = X_train.shape[1]\n",
        "  class_num = 5\n",
        "  \n",
        "\n",
        "\n",
        "\n",
        "  lr = 0.005\n",
        "  batch_size=128\n",
        "  y_train = Y_train\n",
        "  Y_train = keras.utils.to_categorical(Y_train, num_classes=class_num)\n",
        "\n",
        "\n",
        "\n",
        "  bin_label = lambda x: min(1,x)\n",
        "\n",
        "  for e in range(1, 6):\n",
        "\n",
        "      model.fit(X_train, Y_train, batch_size=batch_size, epochs=1, verbose=0)\n",
        "      \n",
        "      model.save_weights(\"weights_bilstm.h5\")\n",
        "      \n",
        "      y_pred = model.predict(X_train)\n",
        "      y_pred = np.argmax(y_pred, axis=1)\n",
        "      acc = np.sum(y_pred==y_train)/len(y_train)\n",
        "\n",
        "      y_true = list(map(bin_label, y_train))\n",
        "      y_pred = list(map(bin_label, y_pred))\n",
        "      auc = roc_auc_score(y_true, y_pred)\n",
        "      tn, fp, fn, tp = confusion_matrix(y_true, y_pred).ravel()\n",
        "      SE = tp/(tp+fn)\n",
        "      SP = tn/(fp+tn)\n",
        "\n",
        "      if SE+acc > best_SE+best_ACC:\n",
        "          best_SE, best_ACC = SE, acc\n",
        "          best_model.set_weights(model.get_weights())\n",
        "          pcnt = 0\n",
        "      else:\n",
        "          pcnt += 1\n",
        "      \n",
        "      print(\"Epoch: %d | SE: %.4f | Best SE: %.4f | ACC: %.4f | Best ACC: %.4f | AUC: %.4f | SP: %.4f\" %(e, SE, best_SE, acc, best_ACC, auc, SP))\n",
        "\n",
        "    \n"
      ],
      "execution_count": null,
      "outputs": []
    },
    {
      "cell_type": "code",
      "metadata": {
        "id": "i9WrtneaUoAk",
        "colab_type": "code",
        "colab": {
          "base_uri": "https://localhost:8080/",
          "height": 35
        },
        "outputId": "f55b1b1d-6470-4fc3-9e25-5c6f1ad086d1"
      },
      "source": [
        "\n",
        "model = make_model('GRU')\n",
        "best_SE = 0\n",
        "best_ACC = 0\n",
        "best_model = make_model('GRU')\n",
        "patience = 30\n",
        "pcnt = 0\n",
        "\n",
        "bin_label = lambda x: min(1,x)\n",
        "\n",
        "for e in range(1, 2):\n",
        "\n",
        "    model.fit(X_train, Y_train, batch_size=batch_size, epochs=1, verbose=0)\n",
        "    \n",
        "    model.save_weights(\"weights_bilstm.h5\")\n",
        "    \n",
        "    y_pred = model.predict(X_train)\n",
        "    y_pred = np.argmax(y_pred, axis=1)\n",
        "    acc = np.sum(y_pred==y_train)/len(y_train)\n",
        "\n",
        "    y_true = list(map(bin_label, y_train))\n",
        "    y_pred = list(map(bin_label, y_pred))\n",
        "    auc = roc_auc_score(y_true, y_pred)\n",
        "    tn, fp, fn, tp = confusion_matrix(y_true, y_pred).ravel()\n",
        "    SE = tp/(tp+fn)\n",
        "    SP = tn/(fp+tn)\n",
        "\n",
        "    if SE+acc > best_SE+best_ACC:\n",
        "        best_SE, best_ACC = SE, acc\n",
        "        best_model.set_weights(model.get_weights())\n",
        "        pcnt = 0\n",
        "    else:\n",
        "        pcnt += 1\n",
        "    \n",
        "    print(\"Epoch: %d | SE: %.4f | Best SE: %.4f | ACC: %.4f | Best ACC: %.4f | AUC: %.4f | SP: %.4f\" %(e, SE, best_SE, acc, best_ACC, auc, SP))\n",
        "\n",
        "    "
      ],
      "execution_count": null,
      "outputs": [
        {
          "output_type": "stream",
          "text": [
            "Epoch: 1 | SE: 0.7908 | Best SE: 0.7908 | ACC: 0.9334 | Best ACC: 0.9334 | AUC: 0.8924 | SP: 0.9941\n"
          ],
          "name": "stdout"
        }
      ]
    },
    {
      "cell_type": "code",
      "metadata": {
        "id": "YG72YMMDca0h",
        "colab_type": "code",
        "colab": {
          "base_uri": "https://localhost:8080/",
          "height": 108
        },
        "outputId": "727c3a50-3fd3-4edd-93c2-1a738f2442df"
      },
      "source": [
        "test_model('1DCNN')"
      ],
      "execution_count": null,
      "outputs": [
        {
          "output_type": "stream",
          "text": [
            "Epoch: 1 | SE: 0.5934 | Best SE: 0.5934 | ACC: 0.8678 | Best ACC: 0.8678 | AUC: 0.7809 | SP: 0.9684\n",
            "Epoch: 2 | SE: 0.6672 | Best SE: 0.6672 | ACC: 0.8896 | Best ACC: 0.8896 | AUC: 0.8190 | SP: 0.9708\n",
            "Epoch: 3 | SE: 0.6391 | Best SE: 0.6672 | ACC: 0.8893 | Best ACC: 0.8896 | AUC: 0.8077 | SP: 0.9763\n",
            "Epoch: 4 | SE: 0.6951 | Best SE: 0.6951 | ACC: 0.9013 | Best ACC: 0.9013 | AUC: 0.8354 | SP: 0.9758\n",
            "Epoch: 5 | SE: 0.7241 | Best SE: 0.7241 | ACC: 0.9072 | Best ACC: 0.9072 | AUC: 0.8498 | SP: 0.9754\n"
          ],
          "name": "stdout"
        }
      ]
    },
    {
      "cell_type": "code",
      "metadata": {
        "id": "SzuaGUSwVhHR",
        "colab_type": "code",
        "colab": {
          "base_uri": "https://localhost:8080/",
          "height": 108
        },
        "outputId": "6a9244be-1117-4436-8fea-b06b82c3a5b4"
      },
      "source": [
        "\n",
        "model = make_model('CNN_GRU')\n",
        "best_SE = 0\n",
        "best_ACC = 0\n",
        "best_model = make_model('CNN_GRU')\n",
        "patience = 30\n",
        "pcnt = 0\n",
        "\n",
        "bin_label = lambda x: min(1,x)\n",
        "\n",
        "for e in range(1, 6):\n",
        "\n",
        "    model.fit(X_train, Y_train, batch_size=batch_size, epochs=1, verbose=0)\n",
        "    \n",
        "    model.save_weights(\"weights_bilstm.h5\")\n",
        "    \n",
        "    y_pred = model.predict(X_train)\n",
        "    y_pred = np.argmax(y_pred, axis=1)\n",
        "    acc = np.sum(y_pred==y_train)/len(y_train)\n",
        "\n",
        "    y_true = list(map(bin_label, y_train))\n",
        "    y_pred = list(map(bin_label, y_pred))\n",
        "    auc = roc_auc_score(y_true, y_pred)\n",
        "    tn, fp, fn, tp = confusion_matrix(y_true, y_pred).ravel()\n",
        "    SE = tp/(tp+fn)\n",
        "    SP = tn/(fp+tn)\n",
        "\n",
        "    if SE+acc > best_SE+best_ACC:\n",
        "        best_SE, best_ACC = SE, acc\n",
        "        best_model.set_weights(model.get_weights())\n",
        "        pcnt = 0\n",
        "    else:\n",
        "        pcnt += 1\n",
        "    \n",
        "    print(\"Epoch: %d | SE: %.4f | Best SE: %.4f | ACC: %.4f | Best ACC: %.4f | AUC: %.4f | SP: %.4f\" %(e, SE, best_SE, acc, best_ACC, auc, SP))\n",
        "\n",
        "    \n"
      ],
      "execution_count": null,
      "outputs": [
        {
          "output_type": "stream",
          "text": [
            "Epoch: 1 | SE: 0.9613 | Best SE: 0.9613 | ACC: 0.9867 | Best ACC: 0.9867 | AUC: 0.9798 | SP: 0.9983\n",
            "Epoch: 2 | SE: 0.9691 | Best SE: 0.9691 | ACC: 0.9899 | Best ACC: 0.9899 | AUC: 0.9840 | SP: 0.9988\n",
            "Epoch: 3 | SE: 0.9776 | Best SE: 0.9776 | ACC: 0.9918 | Best ACC: 0.9918 | AUC: 0.9878 | SP: 0.9981\n",
            "Epoch: 4 | SE: 0.9844 | Best SE: 0.9844 | ACC: 0.9937 | Best ACC: 0.9937 | AUC: 0.9912 | SP: 0.9981\n",
            "Epoch: 5 | SE: 0.9806 | Best SE: 0.9844 | ACC: 0.9937 | Best ACC: 0.9937 | AUC: 0.9897 | SP: 0.9988\n"
          ],
          "name": "stdout"
        }
      ]
    },
    {
      "cell_type": "code",
      "metadata": {
        "id": "b7VugFgTVhDm",
        "colab_type": "code",
        "colab": {}
      },
      "source": [
        ""
      ],
      "execution_count": null,
      "outputs": []
    },
    {
      "cell_type": "code",
      "metadata": {
        "id": "IpxF_XG4Vg_Q",
        "colab_type": "code",
        "colab": {
          "base_uri": "https://localhost:8080/",
          "height": 658
        },
        "outputId": "998bceeb-4f21-482b-b3e5-5a6503b277e5"
      },
      "source": [
        "model = make_model('LSTM')\n",
        "best_SE = 0\n",
        "best_ACC = 0\n",
        "best_model = make_model('LSTM')\n",
        "patience = 30\n",
        "pcnt = 0\n",
        "\n",
        "bin_label = lambda x: min(1,x)\n",
        "\n",
        "for e in range(1, 6):\n",
        "\n",
        "    model.fit(X_train, Y_train, batch_size=batch_size, epochs=1, verbose=0)\n",
        "    \n",
        "    model.save_weights(\"weights_bilstm.h5\")\n",
        "    \n",
        "    y_pred = model.predict(X_train)\n",
        "    y_pred = np.argmax(y_pred, axis=1)\n",
        "    acc = np.sum(y_pred==y_train)/len(y_train)\n",
        "\n",
        "    y_true = list(map(bin_label, y_train))\n",
        "    y_pred = list(map(bin_label, y_pred))\n",
        "    auc = roc_auc_score(y_true, y_pred)\n",
        "    tn, fp, fn, tp = confusion_matrix(y_true, y_pred).ravel()\n",
        "    SE = tp/(tp+fn)\n",
        "    SP = tn/(fp+tn)\n",
        "\n",
        "    if SE+acc > best_SE+best_ACC:\n",
        "        best_SE, best_ACC = SE, acc\n",
        "        best_model.set_weights(model.get_weights())\n",
        "        pcnt = 0\n",
        "    else:\n",
        "        pcnt += 1\n",
        "    \n",
        "    print(\"Epoch: %d | SE: %.4f | Best SE: %.4f | ACC: %.4f | Best ACC: %.4f | AUC: %.4f | SP: %.4f\" %(e, SE, best_SE, acc, best_ACC, auc, SP))\n",
        "\n",
        "    "
      ],
      "execution_count": null,
      "outputs": [
        {
          "output_type": "stream",
          "text": [
            "WARNING:tensorflow:From /usr/local/lib/python3.6/dist-packages/keras/backend/tensorflow_backend.py:66: The name tf.get_default_graph is deprecated. Please use tf.compat.v1.get_default_graph instead.\n",
            "\n",
            "WARNING:tensorflow:From /usr/local/lib/python3.6/dist-packages/keras/backend/tensorflow_backend.py:541: The name tf.placeholder is deprecated. Please use tf.compat.v1.placeholder instead.\n",
            "\n",
            "WARNING:tensorflow:From /usr/local/lib/python3.6/dist-packages/keras/backend/tensorflow_backend.py:4432: The name tf.random_uniform is deprecated. Please use tf.random.uniform instead.\n",
            "\n",
            "WARNING:tensorflow:From /usr/local/lib/python3.6/dist-packages/keras/backend/tensorflow_backend.py:148: The name tf.placeholder_with_default is deprecated. Please use tf.compat.v1.placeholder_with_default instead.\n",
            "\n",
            "WARNING:tensorflow:From /usr/local/lib/python3.6/dist-packages/keras/backend/tensorflow_backend.py:3733: calling dropout (from tensorflow.python.ops.nn_ops) with keep_prob is deprecated and will be removed in a future version.\n",
            "Instructions for updating:\n",
            "Please use `rate` instead of `keep_prob`. Rate should be set to `rate = 1 - keep_prob`.\n",
            "WARNING:tensorflow:From /usr/local/lib/python3.6/dist-packages/keras/optimizers.py:793: The name tf.train.Optimizer is deprecated. Please use tf.compat.v1.train.Optimizer instead.\n",
            "\n",
            "WARNING:tensorflow:From /usr/local/lib/python3.6/dist-packages/keras/backend/tensorflow_backend.py:3576: The name tf.log is deprecated. Please use tf.math.log instead.\n",
            "\n",
            "WARNING:tensorflow:From /usr/local/lib/python3.6/dist-packages/tensorflow_core/python/ops/math_grad.py:1424: where (from tensorflow.python.ops.array_ops) is deprecated and will be removed in a future version.\n",
            "Instructions for updating:\n",
            "Use tf.where in 2.0, which has the same broadcast rule as np.where\n",
            "WARNING:tensorflow:From /usr/local/lib/python3.6/dist-packages/keras/backend/tensorflow_backend.py:1033: The name tf.assign_add is deprecated. Please use tf.compat.v1.assign_add instead.\n",
            "\n",
            "WARNING:tensorflow:From /usr/local/lib/python3.6/dist-packages/keras/backend/tensorflow_backend.py:1020: The name tf.assign is deprecated. Please use tf.compat.v1.assign instead.\n",
            "\n",
            "WARNING:tensorflow:From /usr/local/lib/python3.6/dist-packages/keras/backend/tensorflow_backend.py:190: The name tf.get_default_session is deprecated. Please use tf.compat.v1.get_default_session instead.\n",
            "\n",
            "WARNING:tensorflow:From /usr/local/lib/python3.6/dist-packages/keras/backend/tensorflow_backend.py:207: The name tf.global_variables is deprecated. Please use tf.compat.v1.global_variables instead.\n",
            "\n",
            "WARNING:tensorflow:From /usr/local/lib/python3.6/dist-packages/keras/backend/tensorflow_backend.py:216: The name tf.is_variable_initialized is deprecated. Please use tf.compat.v1.is_variable_initialized instead.\n",
            "\n",
            "WARNING:tensorflow:From /usr/local/lib/python3.6/dist-packages/keras/backend/tensorflow_backend.py:223: The name tf.variables_initializer is deprecated. Please use tf.compat.v1.variables_initializer instead.\n",
            "\n",
            "Epoch: 1 | SE: 0.9650 | Best SE: 0.9650 | ACC: 0.9882 | Best ACC: 0.9882 | AUC: 0.9817 | SP: 0.9984\n",
            "Epoch: 2 | SE: 0.9765 | Best SE: 0.9765 | ACC: 0.9912 | Best ACC: 0.9912 | AUC: 0.9872 | SP: 0.9980\n",
            "Epoch: 3 | SE: 0.9810 | Best SE: 0.9810 | ACC: 0.9940 | Best ACC: 0.9940 | AUC: 0.9900 | SP: 0.9990\n",
            "Epoch: 4 | SE: 0.9891 | Best SE: 0.9891 | ACC: 0.9954 | Best ACC: 0.9954 | AUC: 0.9937 | SP: 0.9983\n",
            "Epoch: 5 | SE: 0.9910 | Best SE: 0.9910 | ACC: 0.9962 | Best ACC: 0.9962 | AUC: 0.9948 | SP: 0.9986\n"
          ],
          "name": "stdout"
        }
      ]
    },
    {
      "cell_type": "code",
      "metadata": {
        "id": "ry4CA2BUIKwu",
        "colab_type": "code",
        "colab": {}
      },
      "source": [
        "model.load_weights(\"weights_bilstm.h5\")"
      ],
      "execution_count": null,
      "outputs": []
    },
    {
      "cell_type": "code",
      "metadata": {
        "id": "1ZP9M0PtBEk3",
        "colab_type": "code",
        "colab": {}
      },
      "source": [
        ""
      ],
      "execution_count": null,
      "outputs": []
    },
    {
      "cell_type": "code",
      "metadata": {
        "id": "gN_nZ2TpBEhu",
        "colab_type": "code",
        "colab": {}
      },
      "source": [
        ""
      ],
      "execution_count": null,
      "outputs": []
    },
    {
      "cell_type": "code",
      "metadata": {
        "id": "xOlhf29mBEZ_",
        "colab_type": "code",
        "colab": {
          "base_uri": "https://localhost:8080/",
          "height": 35
        },
        "outputId": "ba4ed651-2691-4f61-dd69-b9f97425038b"
      },
      "source": [
        "X_train = X_train.squeeze()\n",
        "X_train.shape"
      ],
      "execution_count": null,
      "outputs": [
        {
          "output_type": "execute_result",
          "data": {
            "text/plain": [
              "(62836, 47)"
            ]
          },
          "metadata": {
            "tags": []
          },
          "execution_count": 10
        }
      ]
    },
    {
      "cell_type": "code",
      "metadata": {
        "id": "xhV1Y_iBBYbv",
        "colab_type": "code",
        "colab": {
          "base_uri": "https://localhost:8080/",
          "height": 35
        },
        "outputId": "1c4259d5-748b-442d-ad46-deacdef45312"
      },
      "source": [
        "Y_train = Y_train.squeeze()\n",
        "Y_train.shape"
      ],
      "execution_count": null,
      "outputs": [
        {
          "output_type": "execute_result",
          "data": {
            "text/plain": [
              "(62836,)"
            ]
          },
          "metadata": {
            "tags": []
          },
          "execution_count": 11
        }
      ]
    },
    {
      "cell_type": "code",
      "metadata": {
        "id": "o7K0F4shBfhI",
        "colab_type": "code",
        "colab": {
          "base_uri": "https://localhost:8080/",
          "height": 35
        },
        "outputId": "bffe9f34-66a1-4300-c3cd-a1759212e22d"
      },
      "source": [
        "X_valid = X_valid.squeeze()\n",
        "X_valid.shape"
      ],
      "execution_count": null,
      "outputs": [
        {
          "output_type": "execute_result",
          "data": {
            "text/plain": [
              "(15709, 47)"
            ]
          },
          "metadata": {
            "tags": []
          },
          "execution_count": 12
        }
      ]
    },
    {
      "cell_type": "code",
      "metadata": {
        "id": "1wGcHPfyBqG5",
        "colab_type": "code",
        "colab": {
          "base_uri": "https://localhost:8080/",
          "height": 35
        },
        "outputId": "998be9ca-bb69-4d1b-ef4f-a57b7ac3eb9e"
      },
      "source": [
        "Y_valid= Y_valid.squeeze()\n",
        "Y_valid.shape"
      ],
      "execution_count": null,
      "outputs": [
        {
          "output_type": "execute_result",
          "data": {
            "text/plain": [
              "(15709,)"
            ]
          },
          "metadata": {
            "tags": []
          },
          "execution_count": 13
        }
      ]
    },
    {
      "cell_type": "code",
      "metadata": {
        "id": "nDEwz9lIVUHp",
        "colab_type": "code",
        "colab": {}
      },
      "source": [
        "# training a linear SVM classifier \n",
        "from sklearn.svm import SVC \n",
        "svm_model_linear = SVC(kernel = 'linear', C = 1).fit(X_train, Y_train) \n",
        "\n",
        "\n"
      ],
      "execution_count": null,
      "outputs": []
    },
    {
      "cell_type": "code",
      "metadata": {
        "id": "JPVi7cUEBvcn",
        "colab_type": "code",
        "colab": {}
      },
      "source": [
        "svm_predictions = svm_model_linear.predict(X_valid)\n",
        "\n",
        "# model accuracy for X_test   \n",
        "accuracy = svm_model_linear.score(X_valid, Y_valid) \n",
        "  \n",
        "# creating a confusion matrix \n",
        "cm = confusion_matrix(Y_valid, svm_predictions) \n"
      ],
      "execution_count": null,
      "outputs": []
    },
    {
      "cell_type": "code",
      "metadata": {
        "id": "1LQw6copCZhK",
        "colab_type": "code",
        "colab": {
          "base_uri": "https://localhost:8080/",
          "height": 108
        },
        "outputId": "b458a474-81b9-4411-990c-df5009830568"
      },
      "source": [
        "print(cm)"
      ],
      "execution_count": null,
      "outputs": [
        {
          "output_type": "stream",
          "text": [
            "[[12042   163    11     9     6]\n",
            " [  218  1267     0     1     5]\n",
            " [   60     1  1333     3     0]\n",
            " [   33     1     3   268     0]\n",
            " [   36    26    14     5   204]]\n"
          ],
          "name": "stdout"
        }
      ]
    },
    {
      "cell_type": "code",
      "metadata": {
        "id": "WSQBbKK1CfE_",
        "colab_type": "code",
        "colab": {
          "base_uri": "https://localhost:8080/",
          "height": 235
        },
        "outputId": "908f7c63-ecba-48a8-b3c9-44976edc51b8"
      },
      "source": [
        "from sklearn.metrics import classification_report\n",
        "print(classification_report(Y_valid, svm_predictions, target_names=labels))\n"
      ],
      "execution_count": null,
      "outputs": [
        {
          "output_type": "stream",
          "text": [
            "              precision    recall  f1-score   support\n",
            "\n",
            "           N       0.97      0.98      0.98     12231\n",
            "           L       0.87      0.85      0.86      1491\n",
            "           R       0.98      0.95      0.97      1397\n",
            "           A       0.94      0.88      0.91       305\n",
            "           V       0.95      0.72      0.82       285\n",
            "\n",
            "    accuracy                           0.96     15709\n",
            "   macro avg       0.94      0.88      0.91     15709\n",
            "weighted avg       0.96      0.96      0.96     15709\n",
            "\n"
          ],
          "name": "stdout"
        }
      ]
    },
    {
      "cell_type": "code",
      "metadata": {
        "id": "ir1pgIicN1FX",
        "colab_type": "code",
        "colab": {}
      },
      "source": [
        "svm_model_linear = SVC(kernel = 'rbf', C = 1, gamma = 0.001).fit(X_train, Y_train) "
      ],
      "execution_count": null,
      "outputs": []
    },
    {
      "cell_type": "code",
      "metadata": {
        "id": "SaMO5wXIXMLa",
        "colab_type": "code",
        "colab": {}
      },
      "source": [
        "svm_predictions = svm_model_linear.predict(X_valid)\n",
        "\n",
        "# model accuracy for X_test   \n",
        "accuracy = svm_model_linear.score(X_valid, Y_valid) \n",
        "  \n",
        "# creating a confusion matrix \n",
        "cm = confusion_matrix(Y_valid, svm_predictions) \n"
      ],
      "execution_count": null,
      "outputs": []
    },
    {
      "cell_type": "code",
      "metadata": {
        "id": "WjC1kbmWOJer",
        "colab_type": "code",
        "colab": {
          "base_uri": "https://localhost:8080/",
          "height": 108
        },
        "outputId": "bab186cd-c290-4049-d270-90c74fa40ee3"
      },
      "source": [
        "print(cm)"
      ],
      "execution_count": null,
      "outputs": [
        {
          "output_type": "stream",
          "text": [
            "[[12188    34     4     2     3]\n",
            " [   36  1454     0     0     1]\n",
            " [   27     0  1369     1     0]\n",
            " [   29     3     3   270     0]\n",
            " [   12    10     5     0   258]]\n"
          ],
          "name": "stdout"
        }
      ]
    },
    {
      "cell_type": "code",
      "metadata": {
        "id": "JCkLzdrKOLDN",
        "colab_type": "code",
        "colab": {
          "base_uri": "https://localhost:8080/",
          "height": 235
        },
        "outputId": "de5051f5-cc80-46d8-c7da-7467260d7b7e"
      },
      "source": [
        "from sklearn.metrics import classification_report\n",
        "print(classification_report(Y_valid, svm_predictions, target_names=labels))"
      ],
      "execution_count": null,
      "outputs": [
        {
          "output_type": "stream",
          "text": [
            "              precision    recall  f1-score   support\n",
            "\n",
            "           N       0.99      1.00      0.99     12231\n",
            "           L       0.97      0.98      0.97      1491\n",
            "           R       0.99      0.98      0.99      1397\n",
            "           A       0.99      0.89      0.93       305\n",
            "           V       0.98      0.91      0.94       285\n",
            "\n",
            "    accuracy                           0.99     15709\n",
            "   macro avg       0.99      0.95      0.97     15709\n",
            "weighted avg       0.99      0.99      0.99     15709\n",
            "\n"
          ],
          "name": "stdout"
        }
      ]
    },
    {
      "cell_type": "code",
      "metadata": {
        "id": "oyRts2okOMIa",
        "colab_type": "code",
        "colab": {}
      },
      "source": [
        ""
      ],
      "execution_count": null,
      "outputs": []
    }
  ]
}